{
  "nbformat": 4,
  "nbformat_minor": 0,
  "metadata": {
    "colab": {
      "name": "Copia de CuadraturaNpuntos.ipynb",
      "provenance": [],
      "collapsed_sections": [],
      "include_colab_link": true
    },
    "kernelspec": {
      "name": "python3",
      "display_name": "Python 3"
    }
  },
  "cells": [
    {
      "cell_type": "markdown",
      "metadata": {
        "id": "view-in-github",
        "colab_type": "text"
      },
      "source": [
        "<a href=\"https://colab.research.google.com/github/Paoedd/metodos/blob/Integrales/Copia_de_CuadraturaNpuntos.ipynb\" target=\"_parent\"><img src=\"https://colab.research.google.com/assets/colab-badge.svg\" alt=\"Open In Colab\"/></a>"
      ]
    },
    {
      "cell_type": "markdown",
      "metadata": {
        "id": "OPia0j7lZ8Tv"
      },
      "source": [
        "Se puede hacer mediante el código:\n"
      ]
    },
    {
      "cell_type": "code",
      "metadata": {
        "id": "sRrorNW4sTXU"
      },
      "source": [
        "import numpy as np"
      ],
      "execution_count": null,
      "outputs": []
    },
    {
      "cell_type": "code",
      "metadata": {
        "id": "hAirZBhgm_FB"
      },
      "source": [
        "def cuadraturaNp(f,a,b,n):\n",
        "  w=np. array ([[1.,1.],\n",
        "                [0.55555556 ,0.88888889 ,0.55555556] ,\n",
        "                [0.3478548 ,0.6521452 ,0.6521452 ,0.3478548] ,\n",
        "                [0.2369269 ,0.4786287 ,0.5688889 ,0.4786287 ,0.2369269] ,\n",
        "                [0.1713245 ,0.3607616 ,0.4679139 ,0.4679139 ,0.3607616 ,0.1713245]])\n",
        "\n",
        "  z=np. array ([[ -0.577350269 ,0.577350269] ,\n",
        "                [ -0.774596669 ,0 ,0.774596669] ,\n",
        "                [ -0.861136312 , -0.339981044 ,0.339981044 ,0.861136312] ,\n",
        "                [ -0.906179846 , -0.538469310 ,0 ,0.538469310 ,0.906179846] ,\n",
        "                [ -0.932469514 , -0.661209386 , -0.238619186 ,0.238619186 ,0.661209386 ,0.932469514]])\n",
        "  s=0\n",
        "  for i in range(n):\n",
        "    s=s+w[n-2][i]*f((b-a)/2*z[n-2][i]+(a+b)/2)\n",
        "  \n",
        "  return (b-a)/2*s"
      ],
      "execution_count": null,
      "outputs": []
    },
    {
      "cell_type": "code",
      "metadata": {
        "id": "wP9BjbdNrqTW"
      },
      "source": [
        "def F(t):\n",
        "  return #escribir la funcion a integrar"
      ],
      "execution_count": null,
      "outputs": []
    },
    {
      "cell_type": "code",
      "metadata": {
        "id": "_t0LXK7Nr6jj"
      },
      "source": [
        "integral=cuadraturaNp(F,a,b,6) #a y b son los limites. Se pueden poner hasta 6 puntos maximo\n",
        "integral"
      ],
      "execution_count": null,
      "outputs": []
    },
    {
      "cell_type": "markdown",
      "metadata": {
        "id": "H5fT0XaraDSH"
      },
      "source": [
        "O bien, mediante la función de python, que es muy eficiente porque calcula la int con n puntos hasta que el error es minimo"
      ]
    },
    {
      "cell_type": "code",
      "metadata": {
        "id": "3ktrZDM1sPZl"
      },
      "source": [
        "from scipy.integrate import quadrature"
      ],
      "execution_count": null,
      "outputs": []
    },
    {
      "cell_type": "code",
      "metadata": {
        "id": "HCgkKJYHs-J7"
      },
      "source": [
        "integral = quadrature(F,a,b)\n",
        "integral"
      ],
      "execution_count": null,
      "outputs": []
    }
  ]
}
