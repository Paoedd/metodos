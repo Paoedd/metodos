{
  "nbformat": 4,
  "nbformat_minor": 0,
  "metadata": {
    "colab": {
      "name": "Trapecios.ipynb",
      "provenance": [],
      "authorship_tag": "ABX9TyOT2oEb4hb6/il3UWcy9FJX",
      "include_colab_link": true
    },
    "kernelspec": {
      "name": "python3",
      "display_name": "Python 3"
    },
    "language_info": {
      "name": "python"
    }
  },
  "cells": [
    {
      "cell_type": "markdown",
      "metadata": {
        "id": "view-in-github",
        "colab_type": "text"
      },
      "source": [
        "<a href=\"https://colab.research.google.com/github/Paoedd/metodos/blob/Integrales/Trapecios.ipynb\" target=\"_parent\"><img src=\"https://colab.research.google.com/assets/colab-badge.svg\" alt=\"Open In Colab\"/></a>"
      ]
    },
    {
      "cell_type": "code",
      "metadata": {
        "id": "eL45S8lBXfkg"
      },
      "source": [
        "import numpy as np\n",
        "import matplotlib.pyplot as plt"
      ],
      "execution_count": null,
      "outputs": []
    },
    {
      "cell_type": "code",
      "metadata": {
        "id": "AeqOjX7uXveP"
      },
      "source": [
        "def f(x):\n",
        "  return  #escribir la funcion a integrar\n",
        "\n",
        "#se grafica la función para \n",
        "a,b=0,2 #esos valores son de los límites así que pueden cambiar\n",
        "xs=np.linspace(a,b)\n",
        "plt.plot(xs,f(xs))\n",
        "plt.show"
      ],
      "execution_count": null,
      "outputs": []
    },
    {
      "cell_type": "code",
      "metadata": {
        "id": "iTyzM7keXxmR"
      },
      "source": [
        "def reglaTrap(f,a,b,n):\n",
        "  h=(b-a)/n\n",
        "  xs=np.linspace(a,b,n+1)\n",
        "  ys=f(xs)\n",
        "  return h/2*(ys[0]+2*sum(ys[1:n])+ys[n])"
      ],
      "execution_count": null,
      "outputs": []
    },
    {
      "cell_type": "code",
      "metadata": {
        "id": "6AYVgfzYX01K"
      },
      "source": [
        "integral=reglaTrap(f,a,b,n) #preferible poner una n mayor a 500\n",
        "integral"
      ],
      "execution_count": null,
      "outputs": []
    }
  ]
}