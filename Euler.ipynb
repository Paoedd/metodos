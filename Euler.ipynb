{
  "nbformat": 4,
  "nbformat_minor": 0,
  "metadata": {
    "colab": {
      "name": "Euler.ipynb",
      "provenance": [],
      "authorship_tag": "ABX9TyNg6ZrlO3PDu3zAgfobgdkI",
      "include_colab_link": true
    },
    "kernelspec": {
      "name": "python3",
      "display_name": "Python 3"
    },
    "language_info": {
      "name": "python"
    }
  },
  "cells": [
    {
      "cell_type": "markdown",
      "metadata": {
        "id": "view-in-github",
        "colab_type": "text"
      },
      "source": [
        "<a href=\"https://colab.research.google.com/github/Paoedd/metodos/blob/Ec-diferenciales/Euler.ipynb\" target=\"_parent\"><img src=\"https://colab.research.google.com/assets/colab-badge.svg\" alt=\"Open In Colab\"/></a>"
      ]
    },
    {
      "cell_type": "code",
      "metadata": {
        "id": "hOr5Jd2o2a02"
      },
      "source": [
        "import numpy as np\n",
        "import matplotlib.pyplot as plt"
      ],
      "execution_count": null,
      "outputs": []
    },
    {
      "cell_type": "code",
      "metadata": {
        "id": "y5y3XNoK27wi"
      },
      "source": [
        "def euler(f,x0,y0,xn,n):\n",
        "  h=(xn-x0)/n\n",
        "  xi=np.linspace(x0,xn,n+1)\n",
        "  yi=np.zeros(n+1)\n",
        "  yi[0]=y0\n",
        "  for i in range(1,n+1):\n",
        "    yi[i]=yi[i-1]+h*f(xi[i-1],yi[i-1])\n",
        "  return xi,yi"
      ],
      "execution_count": null,
      "outputs": []
    },
    {
      "cell_type": "code",
      "metadata": {
        "id": "sjdzzZ0G3xc4"
      },
      "source": [
        "def edo(x,y):\n",
        "  return #escribir la ecuacion dif ordinaria"
      ],
      "execution_count": null,
      "outputs": []
    },
    {
      "cell_type": "code",
      "metadata": {
        "id": "_NBk7vsg38GT"
      },
      "source": [
        "t,c=euler(edo,x0,y0,xn,n) #cambiar los valores de x0, y0,xn y n dependiendo de lo que pida el problema\n",
        "[t,c]"
      ],
      "execution_count": null,
      "outputs": []
    },
    {
      "cell_type": "code",
      "metadata": {
        "id": "qlLSkynytZ-J"
      },
      "source": [
        "plt.plot(t,c,'o--')\n",
        "plt.grid()\n",
        "plt.show()"
      ],
      "execution_count": null,
      "outputs": []
    }
  ]
}