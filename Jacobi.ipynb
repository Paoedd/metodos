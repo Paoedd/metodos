{
  "nbformat": 4,
  "nbformat_minor": 0,
  "metadata": {
    "colab": {
      "name": "Jacobi.ipynb",
      "provenance": [],
      "authorship_tag": "ABX9TyOCmCuB6rTH4NwYC5o8rZvn",
      "include_colab_link": true
    },
    "kernelspec": {
      "name": "python3",
      "display_name": "Python 3"
    },
    "language_info": {
      "name": "python"
    }
  },
  "cells": [
    {
      "cell_type": "markdown",
      "metadata": {
        "id": "view-in-github",
        "colab_type": "text"
      },
      "source": [
        "<a href=\"https://colab.research.google.com/github/Paoedd/metodos/blob/Sist-Ec-no-lineales/Jacobi.ipynb\" target=\"_parent\"><img src=\"https://colab.research.google.com/assets/colab-badge.svg\" alt=\"Open In Colab\"/></a>"
      ]
    },
    {
      "cell_type": "code",
      "metadata": {
        "id": "6r_sGmP9pBJ5"
      },
      "source": [
        "import numpy as np"
      ],
      "execution_count": null,
      "outputs": []
    },
    {
      "cell_type": "code",
      "metadata": {
        "id": "77SxNArVpPZ-"
      },
      "source": [
        "A=np.array([],[],[]...) #definimos la matriz con sus valores\n",
        "b=np.array([]) #definimos el vector"
      ],
      "execution_count": null,
      "outputs": []
    },
    {
      "cell_type": "code",
      "metadata": {
        "id": "uxjII1p5py3y"
      },
      "source": [
        "def jacobi(A,b,x,tol=1e-10):\n",
        "  d=np.diag(A)\n",
        "  D=np.diagflat(d)\n",
        "  R=A-D\n",
        "  Dinv=np.linalg.inv(D)\n",
        "  cumple=False\n",
        "  \n",
        "  while (not cumple):\n",
        "    xk1=np.dot(Dinv, (b-np.dot(R,x)))\n",
        "    cumple=np.linalg.norm(x-xk1)<tol\n",
        "    x=xk1.copy()\n",
        "  return x"
      ],
      "execution_count": null,
      "outputs": []
    },
    {
      "cell_type": "code",
      "metadata": {
        "id": "XgJbplxoq50a"
      },
      "source": [
        "xi=np.array([]) #vector propuesto\n",
        "sol=jacobi(A,b,xi) #llamamos a la funcion y la guardamos en la variable sol de solucion\n",
        "sol"
      ],
      "execution_count": null,
      "outputs": []
    }
  ]
}