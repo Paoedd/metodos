{
  "nbformat": 4,
  "nbformat_minor": 0,
  "metadata": {
    "colab": {
      "name": "Simpson1-3.ipynb",
      "provenance": [],
      "authorship_tag": "ABX9TyMoLNz/rBC74hrEpQ5YD4bs",
      "include_colab_link": true
    },
    "kernelspec": {
      "name": "python3",
      "display_name": "Python 3"
    },
    "language_info": {
      "name": "python"
    }
  },
  "cells": [
    {
      "cell_type": "markdown",
      "metadata": {
        "id": "view-in-github",
        "colab_type": "text"
      },
      "source": [
        "<a href=\"https://colab.research.google.com/github/Paoedd/metodos/blob/Integrales/Simpson1_3.ipynb\" target=\"_parent\"><img src=\"https://colab.research.google.com/assets/colab-badge.svg\" alt=\"Open In Colab\"/></a>"
      ]
    },
    {
      "cell_type": "code",
      "metadata": {
        "id": "HRPa_DvXnRwb"
      },
      "source": [
        "import numpy as np\n",
        "def simpson13(f,a,b,n):\n",
        "  h=(b-a)/n\n",
        "  xs=np.linspace(a,b,n+1)\n",
        "  ys=f(xs)\n",
        "  return h/3*(ys[0]+4*sum(ys[1:n:2])+2*sum(ys[2:n-1:2])+ys[n])"
      ],
      "execution_count": null,
      "outputs": []
    },
    {
      "cell_type": "code",
      "metadata": {
        "id": "_phklaZCp0dT"
      },
      "source": [
        "def f(x):\n",
        "  return #escribir la funcion"
      ],
      "execution_count": null,
      "outputs": []
    },
    {
      "cell_type": "code",
      "metadata": {
        "id": "s8aR3kwBqSOn"
      },
      "source": [
        "integral=simpson13(f,a,b,n)\n",
        "integral"
      ],
      "execution_count": null,
      "outputs": []
    },
    {
      "cell_type": "code",
      "metadata": {
        "id": "ZSeL_hwNuMw4"
      },
      "source": [
        "grafica_integral(f,2,8,4,2,['Masa transportada por una tuberia','tiempo','Q(t)c(t)']); #cambiar los titulos de la grafica y de los ejes"
      ],
      "execution_count": null,
      "outputs": []
    },
    {
      "cell_type": "code",
      "metadata": {
        "id": "P01nCXP6uoq2"
      },
      "source": [
        "import matplotlib.pyplot as plt\n",
        "from matplotlib.patches import Polygon\n",
        "from scipy.interpolate import lagrange\n",
        "from numpy import random\n",
        "\n",
        "def grafica_integral(f,a,b,n,tipo,titulos):\n",
        "  x = np.linspace (a, b)\n",
        "  y = f(x)\n",
        "  fig,ax = plt.subplots ()\n",
        "  ax.plot(x, y, 'b', linewidth =1.7)\n",
        "  ax.set_ylim(bottom=0)\n",
        "\n",
        "  ciclo=range(n)\n",
        "  h=(b-a)/n\n",
        "  if tipo==2:\n",
        "    x0,x1,x2=a,a+h,a+2*h\n",
        "    ciclo=range(0,n,2)\n",
        "  elif tipo==3:\n",
        "    x0,x1,x2,x3=a,a+h,a+2*h,a+3*h\n",
        "    ciclo=range(0,n,3)\n",
        "  ix = np.linspace (a,b,n+1)\n",
        "  iy = f(ix)\n",
        "  patterns =( '/','x','/','\\\\','O','.','o','*','\\\\','/','-','x','+',' ')\n",
        "  colores = ('lightsalmon','orangered','none','purple','aqua','teal','beige','gold')\n",
        "  \n",
        "  for i in ciclo:\n",
        "    if tipo==0:\n",
        "      verts = [( ix[i], 0) , (ix[i],iy[i]) ,(ix[i+1] , iy[i]) , (ix[i+1] , 0)]\n",
        "    elif tipo==1:\n",
        "      verts = [( ix[i], 0) , (ix[i],iy[i]) ,(ix[i+1] , iy[i+1]) , (ix[i+1] , 0)]\n",
        "    elif tipo==2:\n",
        "      xx=np.array([x0,x1,x2])\n",
        "      yy=np.array([f(x0),f(x1),f(x2)])\n",
        "      pol=lagrange(xx,yy)\n",
        "      ix=np.linspace(x0,x2)\n",
        "      iy=pol(ix)\n",
        "      verts=[(x0,0),*zip(ix,iy),(x2,0)]\n",
        "      x0,x1,x2=x2,x2+h,x2+2*h\n",
        "    elif tipo==3:\n",
        "      xx=np.array([x0,x1,x2,x3])\n",
        "      yy=np.array([f(x0),f(x1),f(x2),f(x3)])\n",
        "      pol=lagrange(xx,yy)\n",
        "      ix=np.linspace(x0,x3)\n",
        "      iy=pol(ix)\n",
        "      verts=[(x0,0),*zip(ix,iy),(x3,0)]\n",
        "      x0,x1,x2,x3=x3,x3+h,x3+2*h,x3+3*h\n",
        "      \n",
        "    poly = Polygon(verts , facecolor = random.choice(colores), edgecolor = '0.6',hatch = random.choice(patterns))\n",
        "    ax.add_patch( poly )\n",
        "      \n",
        " \n",
        "  plt.title(titulos[0])\n",
        "  plt.xlabel(titulos[1])\n",
        "  plt.ylabel(titulos[2])\n",
        "  return plt"
      ],
      "execution_count": null,
      "outputs": []
    }
  ]
}