{
  "nbformat": 4,
  "nbformat_minor": 0,
  "metadata": {
    "colab": {
      "name": "Regla falsa.ipynb",
      "provenance": [],
      "authorship_tag": "ABX9TyOvfcG7KH8kI+tfnncumCxA",
      "include_colab_link": true
    },
    "kernelspec": {
      "name": "python3",
      "display_name": "Python 3"
    },
    "language_info": {
      "name": "python"
    }
  },
  "cells": [
    {
      "cell_type": "markdown",
      "metadata": {
        "id": "view-in-github",
        "colab_type": "text"
      },
      "source": [
        "<a href=\"https://colab.research.google.com/github/Paoedd/metodos/blob/Ec-no-lineales/Regla_falsa.ipynb\" target=\"_parent\"><img src=\"https://colab.research.google.com/assets/colab-badge.svg\" alt=\"Open In Colab\"/></a>"
      ]
    },
    {
      "cell_type": "code",
      "metadata": {
        "id": "HSLUb0BBOb1H"
      },
      "source": [
        "def reglafalsa(f,x0,x1,tol=1e-5):\n",
        "  '''\n",
        "  El metodo de la *Regla Falsa* es un método cerrado para resolver ecuaciones no lineales\n",
        "  los argumentos son:\n",
        "  Entrada\n",
        "  -------\n",
        "       f : Ecuación a resolver expresada en la forma f(x)=0\n",
        "  x0, x1 : Puntos que encierran la raiz f(x0)*f(x1)<0\n",
        "     tol : Tolerancia (valor por defecto 1e-5)\n",
        "  Salida\n",
        "  ------\n",
        "      x : Raíz de la ecuación\n",
        "  tabla : Tabla de iteraciones\n",
        "  '''\n",
        "  #validación del rango que encierra la raíz\n",
        "  if f(x0)*f(x1)>0:\n",
        "    raise Exception('Rango invalido, no cruza el eje x!!')\n",
        "  x=x0 #valor inicial\n",
        "  #encabezado de la tabla de iteracioens\n",
        "  tabla=pd.DataFrame(columns=['x0','x','x1','f(x0)','f(x)','f(x1)'])\n",
        "  #valida el criterio de convergencia\n",
        "  while np.abs(f(x))>tol:\n",
        "    x=(x0*f(x1)-x1*f(x0))/(f(x1)-f(x0)) #calcula x, método de Regla Falsa\n",
        "    #inserta la iteración a la tabla\n",
        "    tabla=tabla.append({'x0':x0,'x':x,'x1':x1,\n",
        "                        'f(x0)':f(x0),'f(x)':f(x),'f(x1)':f(x1)},\n",
        "                       ignore_index=True)\n",
        "    #valida si la raíz se encuentra en el intervalo [x0,x]\n",
        "    if f(x0)*f(x)<0:\n",
        "      x1=x\n",
        "    #valida si la raíz se encuentra en el intervalo [x,x1]\n",
        "    else:\n",
        "      x0=x\n",
        "  #retorna la raíz y la tabla de iteraciones\n",
        "  return x,tabla"
      ],
      "execution_count": null,
      "outputs": []
    },
    {
      "cell_type": "code",
      "metadata": {
        "id": "sz71NSSlOtX2"
      },
      "source": [
        "'Se define la func, se grafica y se llama al metodo'\n",
        "\n",
        "def f(x):\n",
        "  return #definir la función a resolver\n",
        "\n",
        "#Graficar la función para identificar el comportamiento y ubicar los puntos iniciales\n",
        "x=np.linspace(-10,10)\n",
        "y=f(x)\n",
        "plt.plot(x,y)\n",
        "plt.grid()\n",
        "plt.show()"
      ],
      "execution_count": null,
      "outputs": []
    },
    {
      "cell_type": "code",
      "metadata": {
        "id": "FrP5AmOWBXV-"
      },
      "source": [
        "#Hacer la llamada a la función\n",
        "raiz,tabla=reglafalsa(f,x0,x1)\n",
        "print(raiz)\n",
        "tabla"
      ],
      "execution_count": null,
      "outputs": []
    }
  ]
}
