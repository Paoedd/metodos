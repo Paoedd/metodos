{
  "nbformat": 4,
  "nbformat_minor": 0,
  "metadata": {
    "colab": {
      "name": "RK4orden.ipynb",
      "provenance": [],
      "authorship_tag": "ABX9TyNXkO/MaLw3KXWMUCHYjaGa",
      "include_colab_link": true
    },
    "kernelspec": {
      "name": "python3",
      "display_name": "Python 3"
    },
    "language_info": {
      "name": "python"
    }
  },
  "cells": [
    {
      "cell_type": "markdown",
      "metadata": {
        "id": "view-in-github",
        "colab_type": "text"
      },
      "source": [
        "<a href=\"https://colab.research.google.com/github/Paoedd/metodos/blob/Ec-diferenciales/RK4orden.ipynb\" target=\"_parent\"><img src=\"https://colab.research.google.com/assets/colab-badge.svg\" alt=\"Open In Colab\"/></a>"
      ]
    },
    {
      "cell_type": "code",
      "metadata": {
        "id": "WbZR_qKi3zsU"
      },
      "source": [
        "import numpy as np\n",
        "import matplotlib.pyplot as plt"
      ],
      "execution_count": null,
      "outputs": []
    },
    {
      "cell_type": "code",
      "metadata": {
        "id": "wbW3D0pA4PaM"
      },
      "source": [
        "def rk4o(f,x0,y0,xn,n):\n",
        "  h=(xn-x0)/n\n",
        "  xi=np.linspace(x0,xn,n+1)\n",
        "  yi=np.zeros(n+1)\n",
        "  yi[0]=y0\n",
        "  for i in range(1, n+1):\n",
        "    k1=f(xi[i-1],yi[i-1])\n",
        "    k2=f(xi[i-1]+h/2,yi[i-1]+k1*h/2)\n",
        "    k3=f(xi[i-1]+h/2,yi[i-1]+k2*h/2)\n",
        "    k4=f(xi[i-1]+h,yi[i-1]+k3*h)\n",
        "    yi[i]=yi[i-1]+h*(k1/6+k2/3+k3/3+k4/6)\n",
        "    \n",
        "  return xi,yi"
      ],
      "execution_count": null,
      "outputs": []
    },
    {
      "cell_type": "code",
      "metadata": {
        "id": "jRV-GyZo79vJ"
      },
      "source": [
        "def f(x,y):\n",
        "  return #definir la func de la ec diferencial (despejada)"
      ],
      "execution_count": null,
      "outputs": []
    },
    {
      "cell_type": "code",
      "metadata": {
        "id": "uO9z5o988kBy"
      },
      "source": [
        "t0=\n",
        "tn=\n",
        "y0=\n",
        "n=\n",
        "t,y=rk4o(f,t0,y0,tn,n)\n",
        "y[-1]"
      ],
      "execution_count": null,
      "outputs": []
    },
    {
      "cell_type": "code",
      "metadata": {
        "id": "3Io1R0jv8-gx"
      },
      "source": [
        "plt.plot(t,y,'--')\n",
        "plt.grid()\n",
        "plt.show()"
      ],
      "execution_count": null,
      "outputs": []
    }
  ]
}