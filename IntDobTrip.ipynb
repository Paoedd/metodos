{
  "nbformat": 4,
  "nbformat_minor": 0,
  "metadata": {
    "colab": {
      "name": "IntDobTrip.ipynb",
      "provenance": [],
      "authorship_tag": "ABX9TyNgnFnBmOPhbs903UBEFSqV",
      "include_colab_link": true
    },
    "kernelspec": {
      "name": "python3",
      "display_name": "Python 3"
    },
    "language_info": {
      "name": "python"
    }
  },
  "cells": [
    {
      "cell_type": "markdown",
      "metadata": {
        "id": "view-in-github",
        "colab_type": "text"
      },
      "source": [
        "<a href=\"https://colab.research.google.com/github/Paoedd/metodos/blob/Integrales/IntDobTrip.ipynb\" target=\"_parent\"><img src=\"https://colab.research.google.com/assets/colab-badge.svg\" alt=\"Open In Colab\"/></a>"
      ]
    },
    {
      "cell_type": "markdown",
      "metadata": {
        "id": "8Ds6ZZO-d0Sh"
      },
      "source": [
        "#Integrales dobles"
      ]
    },
    {
      "cell_type": "code",
      "metadata": {
        "id": "-6Lohn7XdDyG"
      },
      "source": [
        "def f(y,x):\n",
        "  return #escribir la funcion a integrar"
      ],
      "execution_count": null,
      "outputs": []
    },
    {
      "cell_type": "code",
      "metadata": {
        "id": "9GUQ-t4ddN8r"
      },
      "source": [
        "from scipy.integrate import dblquad"
      ],
      "execution_count": null,
      "outputs": []
    },
    {
      "cell_type": "code",
      "metadata": {
        "id": "Rr5qvJUMdP4o"
      },
      "source": [
        "x1= #escribir los valores de los límites x1, x2, y1,y2\n",
        "x2=\n",
        "y1=\n",
        "y2=\n",
        "integral=dblquad(f,x1,x2,lambda y:y1,lambda y:y2)\n",
        "integral"
      ],
      "execution_count": null,
      "outputs": []
    },
    {
      "cell_type": "markdown",
      "metadata": {
        "id": "JGt-jrMHdj4U"
      },
      "source": [
        "#Integrales triples"
      ]
    },
    {
      "cell_type": "code",
      "metadata": {
        "id": "AKKIr5vFdm89"
      },
      "source": [
        "def f(x,y,z):\n",
        "  return #escribir la funcion"
      ],
      "execution_count": null,
      "outputs": []
    },
    {
      "cell_type": "code",
      "metadata": {
        "id": "VmQ1nMT8doDq"
      },
      "source": [
        "from scipy.integrate import tplquad\n",
        "x1=#valor del limite\n",
        "x2=#valor del limite\n",
        "y1=lambda x:#valor del limite\n",
        "y2=lambda x:#valor del limite\n",
        "z1=lambda x,y:#valor del limite\n",
        "z2=lambda x,y,:#valor del limite\n",
        "\n",
        "integral=tplquad(f,x1,x2,y1,y2,z1,z2)\n",
        "integral"
      ],
      "execution_count": null,
      "outputs": []
    },
    {
      "cell_type": "markdown",
      "metadata": {
        "id": "sLGgDqVlesou"
      },
      "source": [
        "Ejemplo de los límites de una triple integral \n",
        "$$\n",
        "\\int_{z_1=0}^{z_2=1}\\int_{y_1=0}^{y_2=1}\\int_{x_1=0}^{x_2=2}x^2e^{-x^2}e^{-0.5yz/x}dxdydz\n",
        "$$"
      ]
    },
    {
      "cell_type": "code",
      "metadata": {
        "id": "f6R_IU4fe5WQ"
      },
      "source": [
        "'x1=0\n",
        "'x2=2\n",
        "'y1=lambda x:0\n",
        "'y2=lambda x:1\n",
        "'z1=lambda x,y:0\n",
        "'z2=lambda x,y,:1"
      ],
      "execution_count": null,
      "outputs": []
    }
  ]
}