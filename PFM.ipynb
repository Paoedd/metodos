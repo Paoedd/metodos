{
  "nbformat": 4,
  "nbformat_minor": 0,
  "metadata": {
    "colab": {
      "name": "PFM.ipynb",
      "provenance": [],
      "authorship_tag": "ABX9TyN7pwWEJf7+bvWy8HVyYXXO",
      "include_colab_link": true
    },
    "kernelspec": {
      "name": "python3",
      "display_name": "Python 3"
    },
    "language_info": {
      "name": "python"
    }
  },
  "cells": [
    {
      "cell_type": "markdown",
      "metadata": {
        "id": "view-in-github",
        "colab_type": "text"
      },
      "source": [
        "<a href=\"https://colab.research.google.com/github/Paoedd/metodos/blob/Sist-ec-no-lin/PFM.ipynb\" target=\"_parent\"><img src=\"https://colab.research.google.com/assets/colab-badge.svg\" alt=\"Open In Colab\"/></a>"
      ]
    },
    {
      "cell_type": "code",
      "metadata": {
        "id": "nSSFl0r265g9"
      },
      "source": [
        "import numpy as np"
      ],
      "execution_count": 1,
      "outputs": []
    },
    {
      "cell_type": "code",
      "metadata": {
        "id": "n2k48vag7FbM"
      },
      "source": [
        "def g(x):\n",
        "  return np.array([[],\n",
        "                   [],...]) #se escriben las x despejadas"
      ],
      "execution_count": null,
      "outputs": []
    },
    {
      "cell_type": "code",
      "metadata": {
        "id": "szdneqOd9_2D"
      },
      "source": [
        "def pfm(g,x,tol=1e-10):\n",
        "  cumple=False\n",
        "  while (not cumple):\n",
        "    xk1=g(x)\n",
        "    cumple=np.linalg.norm(xk1-x)<tol\n",
        "    x=xk1.copy()\n",
        "  return x"
      ],
      "execution_count": null,
      "outputs": []
    },
    {
      "cell_type": "code",
      "metadata": {
        "id": "eJZJZcGo_kAk"
      },
      "source": [
        "xi=np.array([0,0,0])\n",
        "sol=pfm(g,xi)\n",
        "sol"
      ],
      "execution_count": null,
      "outputs": []
    }
  ]
}