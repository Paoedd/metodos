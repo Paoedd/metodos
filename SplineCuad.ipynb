{
  "nbformat": 4,
  "nbformat_minor": 0,
  "metadata": {
    "colab": {
      "name": "SplineCuad.ipynb",
      "provenance": [],
      "authorship_tag": "ABX9TyOH+Ih/xaSCtw3tiGchig9i",
      "include_colab_link": true
    },
    "kernelspec": {
      "name": "python3",
      "display_name": "Python 3"
    },
    "language_info": {
      "name": "python"
    }
  },
  "cells": [
    {
      "cell_type": "markdown",
      "metadata": {
        "id": "view-in-github",
        "colab_type": "text"
      },
      "source": [
        "<a href=\"https://colab.research.google.com/github/Paoedd/metodos/blob/main/SplineCuad.ipynb\" target=\"_parent\"><img src=\"https://colab.research.google.com/assets/colab-badge.svg\" alt=\"Open In Colab\"/></a>"
      ]
    },
    {
      "cell_type": "code",
      "metadata": {
        "id": "zVt7kSWyI3D2"
      },
      "source": [
        ""
      ],
      "execution_count": null,
      "outputs": []
    },
    {
      "cell_type": "markdown",
      "metadata": {
        "id": "ydAKEmslI7aA"
      },
      "source": [
        "Usar la interpolación de Spline Cuadrático en el problema de Runge.\n",
        "\n",
        "Usemos la función\n",
        "$$\n",
        "f(x)=\\frac{1}{1+25x^2}\n",
        "$$\n",
        "\n",
        "en el intervalo $x\\in[-1,1]$"
      ]
    },
    {
      "cell_type": "code",
      "metadata": {
        "id": "TYdGdV6ZJBzr"
      },
      "source": [
        "import numpy as np\n",
        "from scipy import interpolate\n",
        "import matplotlib.pyplot as plt"
      ],
      "execution_count": null,
      "outputs": []
    },
    {
      "cell_type": "code",
      "metadata": {
        "id": "EE75yZtJJ_-R"
      },
      "source": [
        "x=np.linspace(-1,1,10)\n",
        "y=1/(1+25*x**2)"
      ],
      "execution_count": null,
      "outputs": []
    },
    {
      "cell_type": "code",
      "metadata": {
        "colab": {
          "base_uri": "https://localhost:8080/"
        },
        "id": "ije8ty8tKjLr",
        "outputId": "d1ebc954-7b30-46e2-8d4b-47fcc9f4ee48"
      },
      "source": [
        "#se construye el polinomio del spine cuadrático\n",
        "s=interpolate.interp1d(x,y,kind='quadratic')\n",
        "xs=np.linspace(x.min(),x.max())\n",
        "ys=s(xs)\n",
        "print(ys)"
      ],
      "execution_count": null,
      "outputs": [
        {
          "output_type": "stream",
          "text": [
            "[0.03846154 0.04061162 0.04374146 0.04785106 0.05294043 0.05900956\n",
            " 0.06605845 0.0740871  0.08309552 0.09309376 0.10410037 0.11611573\n",
            " 0.12913986 0.14317275 0.15959136 0.19182815 0.24328338 0.31395704\n",
            " 0.40384915 0.51295969 0.62290497 0.71091207 0.77691741 0.82092096\n",
            " 0.84292274 0.84292274 0.82092096 0.77691741 0.71091207 0.62290497\n",
            " 0.51295969 0.40384915 0.31395704 0.24328338 0.19182815 0.15959136\n",
            " 0.14317275 0.12913986 0.11611573 0.10410037 0.09309376 0.08309552\n",
            " 0.0740871  0.06605845 0.05900956 0.05294043 0.04785106 0.04374146\n",
            " 0.04061162 0.03846154]\n"
          ],
          "name": "stdout"
        }
      ]
    },
    {
      "cell_type": "code",
      "metadata": {
        "id": "szigTXQqM6MA"
      },
      "source": [
        "#se construye el polinomio de lagrange\n",
        "from scipy.interpolate import lagrange\n",
        "p=lagrange(x,y)\n",
        "yp=p(xs)"
      ],
      "execution_count": null,
      "outputs": []
    },
    {
      "cell_type": "code",
      "metadata": {
        "colab": {
          "base_uri": "https://localhost:8080/",
          "height": 265
        },
        "id": "4de3lNyDLcLX",
        "outputId": "48bc570c-268d-469e-a386-663491103177"
      },
      "source": [
        "plt.plot(x,y,'o')\n",
        "plt.plot(xs,ys,'--')\n",
        "plt.plot(xs,yp,':')\n",
        "plt.show()"
      ],
      "execution_count": null,
      "outputs": [
        {
          "output_type": "display_data",
          "data": {
            "image/png": "[encoded data removed]",
            "text/plain": [
              "<Figure size 432x288 with 1 Axes>"
            ]
          },
          "metadata": {
            "tags": [],
            "needs_background": "light"
          }
        }
      ]
    },
    {
      "cell_type": "code",
      "metadata": {
        "id": "OFT5A53NMGIh"
      },
      "source": [
        ""
      ],
      "execution_count": null,
      "outputs": []
    }
  ]
}