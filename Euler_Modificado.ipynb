{
  "nbformat": 4,
  "nbformat_minor": 0,
  "metadata": {
    "colab": {
      "name": "Euler Modificado.ipynb",
      "provenance": [],
      "authorship_tag": "ABX9TyNdZQRSp/FIUQ5z244zL35I",
      "include_colab_link": true
    },
    "kernelspec": {
      "name": "python3",
      "display_name": "Python 3"
    },
    "language_info": {
      "name": "python"
    }
  },
  "cells": [
    {
      "cell_type": "markdown",
      "metadata": {
        "id": "view-in-github",
        "colab_type": "text"
      },
      "source": [
        "<a href=\"https://colab.research.google.com/github/Paoedd/metodos/blob/Ec-diferenciales/Euler_Modificado.ipynb\" target=\"_parent\"><img src=\"https://colab.research.google.com/assets/colab-badge.svg\" alt=\"Open In Colab\"/></a>"
      ]
    },
    {
      "cell_type": "code",
      "metadata": {
        "id": "7fES3jaYQmiO"
      },
      "source": [
        "import numpy as np\n",
        "import matplotlib.pyplot as plt"
      ],
      "execution_count": null,
      "outputs": []
    },
    {
      "cell_type": "code",
      "metadata": {
        "id": "LXKNKoQBQnyI"
      },
      "source": [
        "def euler(f,x0,y0,xn,n):\n",
        "  h=(xn-x0)/n\n",
        "  xi=np.linspace(x0,xn,n+1)\n",
        "  yi=np.zeros(n+1)\n",
        "  yi[0]=y0\n",
        "  for i in range(1,n+1):\n",
        "    yi[i]=yi[i-1]+h*f(xi[i-1],yi[i-1])\n",
        "    yi[i]=yi[i-1]+h/2*(f(xi[i-1],yi[i-1])+f(xi[i],yi[i]))\n",
        "  return xi,yi"
      ],
      "execution_count": null,
      "outputs": []
    },
    {
      "cell_type": "code",
      "metadata": {
        "id": "ojt606YcREbb"
      },
      "source": [
        "def edo(x,y):\n",
        "  return #escribir la ecuacion dif ordinaria"
      ],
      "execution_count": null,
      "outputs": []
    },
    {
      "cell_type": "code",
      "metadata": {
        "id": "a-eQCr8VRE7g"
      },
      "source": [
        "t0= #escribir los valores de las variables\n",
        "y=\n",
        "tn=\n",
        "n=\n",
        "t,c=eulerMod(f,t0,y,tn,n)\n",
        "[t,c]"
      ],
      "execution_count": null,
      "outputs": []
    }
  ]
}