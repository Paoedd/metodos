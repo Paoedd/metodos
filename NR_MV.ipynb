{
  "nbformat": 4,
  "nbformat_minor": 0,
  "metadata": {
    "colab": {
      "name": "NR_MV.ipynb",
      "provenance": [],
      "authorship_tag": "ABX9TyP3+wJRpOToSt2lBtCy3bET",
      "include_colab_link": true
    },
    "kernelspec": {
      "name": "python3",
      "display_name": "Python 3"
    },
    "language_info": {
      "name": "python"
    }
  },
  "cells": [
    {
      "cell_type": "markdown",
      "metadata": {
        "id": "view-in-github",
        "colab_type": "text"
      },
      "source": [
        "<a href=\"https://colab.research.google.com/github/Paoedd/metodos/blob/Sist-ec-no-lin/NR_MV.ipynb\" target=\"_parent\"><img src=\"https://colab.research.google.com/assets/colab-badge.svg\" alt=\"Open In Colab\"/></a>"
      ]
    },
    {
      "cell_type": "code",
      "metadata": {
        "id": "DPYckQKzuoXw"
      },
      "source": [
        "import numpy as np"
      ],
      "execution_count": null,
      "outputs": []
    },
    {
      "cell_type": "code",
      "metadata": {
        "id": "U7wEpBfnu6vd"
      },
      "source": [
        "def NRMV(F,J,imax=100,tol=1e-8):\n",
        "  cumple=False\n",
        "  k=0\n",
        "  while (not cumple and k<imax):\n",
        "    deltax=np.linalg.solve(J(x),-F(x))\n",
        "    x=x+deltax\n",
        "    print(f' iteracion: {k} -> {x}')\n",
        "    cumple=np.linalg.norm(F(x))<=tol\n",
        "    k+=1\n",
        "  if k<imax:\n",
        "    return x\n",
        "  else:\n",
        "    raise ValueError('La función no converge')"
      ],
      "execution_count": null,
      "outputs": []
    },
    {
      "cell_type": "code",
      "metadata": {
        "id": "UXwEnNJExF8P"
      },
      "source": [
        "def F(x):\n",
        "  x1,x2=x\n",
        "  return np.array([],\n",
        "                  [],...) #define la matriz de las funciones"
      ],
      "execution_count": null,
      "outputs": []
    },
    {
      "cell_type": "code",
      "metadata": {
        "id": "2LIgGuqnxcJS"
      },
      "source": [
        "def J(x):\n",
        "  x1,x2=x\n",
        "  return np.array([],\n",
        "                  [],...) #define la matriz jacobiana (matriz de derivadas parciales de fi)\n",
        "                          #el jacobiano del sistema se obtiene manualmente"
      ],
      "execution_count": null,
      "outputs": []
    },
    {
      "cell_type": "code",
      "metadata": {
        "id": "XAg_yx54xu4O"
      },
      "source": [
        "x0=np.array([],[]) #son los valores iniciales, se toman arbitrarios cerca de la raiz; si no se sabe cual es la raiz, se pueden colocar ceros\n",
        "raiz=NRMV(F,J,x0)\n",
        "print(f'f ({raiz})={F(raiz)}')"
      ],
      "execution_count": null,
      "outputs": []
    }
  ]
}