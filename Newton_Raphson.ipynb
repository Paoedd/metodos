{
  "nbformat": 4,
  "nbformat_minor": 0,
  "metadata": {
    "colab": {
      "name": "Newton Raphson.ipynb",
      "provenance": [],
      "authorship_tag": "ABX9TyOQMj6ddnrbbHQMbAL6v0b9",
      "include_colab_link": true
    },
    "kernelspec": {
      "name": "python3",
      "display_name": "Python 3"
    },
    "language_info": {
      "name": "python"
    }
  },
  "cells": [
    {
      "cell_type": "markdown",
      "metadata": {
        "id": "view-in-github",
        "colab_type": "text"
      },
      "source": [
        "<a href=\"https://colab.research.google.com/github/Paoedd/metodos/blob/Ec-no-lineales/Newton_Raphson.ipynb\" target=\"_parent\"><img src=\"https://colab.research.google.com/assets/colab-badge.svg\" alt=\"Open In Colab\"/></a>"
      ]
    },
    {
      "cell_type": "code",
      "metadata": {
        "id": "YQq80pAyPniD"
      },
      "source": [
        "def nr(f,df,x,tol=1e-5):\n",
        "  tabla=pd.DataFrame(columns=['x','f(x)','df(x)'])\n",
        "  while np.abs(f(x))>tol:\n",
        "    x=x-f(x)/df(x)\n",
        "    tabla=tabla.append({'x':x,\n",
        "                        'f(x)':f(x),\n",
        "                        'df(x)':df(x)},\n",
        "                       ignore_index=True)\n",
        "    \n",
        "  return x,tabla"
      ],
      "execution_count": null,
      "outputs": []
    },
    {
      "cell_type": "markdown",
      "metadata": {
        "id": "CvHmlfsORHQ5"
      },
      "source": [
        "Se define la función igualada a 0,\n",
        "Se obtiene la derivada:"
      ]
    },
    {
      "cell_type": "code",
      "metadata": {
        "id": "Kko1nKpoQhmB"
      },
      "source": [
        "#obtener la derivada\n",
        "from sympy import *\n",
        "f,e,D,Re=symbols('f e D Re')\n",
        "derivada=diff(#escribir la func a derivar, #variable respecto a la que se va a derivar)\n",
        "derivada"
      ],
      "execution_count": null,
      "outputs": []
    },
    {
      "cell_type": "markdown",
      "metadata": {
        "id": "2EPLJYu3QpS5"
      },
      "source": [
        "Se define la derivada, se grafica y se llama a la función"
      ]
    },
    {
      "cell_type": "code",
      "metadata": {
        "id": "OzJj5I91Q617"
      },
      "source": [
        "#Hacer la llamada a la función\n",
        "from scipy import optimize\n",
        "\n",
        "r=optimize.newton(F,0.005,dF)\n",
        "print(r)\n",
        "\n",
        "\n",
        "\n",
        "r,t=nr(F,dF,0.005,1e-10)\n",
        "print(r)\n",
        "t"
      ],
      "execution_count": null,
      "outputs": []
    }
  ]
}
