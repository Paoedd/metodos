{
  "nbformat": 4,
  "nbformat_minor": 0,
  "metadata": {
    "colab": {
      "name": "Bisección.ipynb",
      "provenance": [],
      "authorship_tag": "ABX9TyPzo9Yqr2KYwkxlO4fBJQ/2",
      "include_colab_link": true
    },
    "kernelspec": {
      "name": "python3",
      "display_name": "Python 3"
    },
    "language_info": {
      "name": "python"
    }
  },
  "cells": [
    {
      "cell_type": "markdown",
      "metadata": {
        "id": "view-in-github",
        "colab_type": "text"
      },
      "source": [
        "<a href=\"https://colab.research.google.com/github/Paoedd/metodos/blob/Ec-no-lineales/Bisecci%C3%B3n.ipynb\" target=\"_parent\"><img src=\"https://colab.research.google.com/assets/colab-badge.svg\" alt=\"Open In Colab\"/></a>"
      ]
    },
    {
      "cell_type": "code",
      "metadata": {
        "id": "s_XbaHNZ3-N7"
      },
      "source": [
        "def biseccion(f,x0,x1,tol=1e-5):\n",
        "  '''\n",
        "  El metodo de Bisección es un método cerrado para resolver ecuaciones no lineales\n",
        "  los argumentos son:\n",
        "  Entrada\n",
        "  -------\n",
        "       f : Ecuación a resolver expresada en la forma f(x)=0\n",
        "  x0, x1 : Puntos que encierran la raiz f(x0)*f(x1)<0\n",
        "     tol : Tolerancia (valor por defecto 1e-5)\n",
        "  Salida\n",
        "  ------\n",
        "      x : Raíz de la ecuación\n",
        "  tabla : Tabla de iteraciones\n",
        "  '''\n",
        "  #validación del rango que encierra la raíz\n",
        "  if f(x0)*f(x1)>0:\n",
        "    raise Exception('Rango invalido, no cruza el eje x!!')\n",
        "  x=x0 #valor inicial\n",
        "  #encabezado de la tabla de iteracioens\n",
        "  tabla=pd.DataFrame(columns=['x0','x','x1','f(x0)','f(x)','f(x1)'])\n",
        "  #valida el criterio de convergencia\n",
        "  while np.abs(f(x))>tol:\n",
        "    x=(x0+x1)/2 #divide el rango a la mitad, método de Bisección\n",
        "    #inserta la iteración a la tabla\n",
        "    tabla=tabla.append({'x0':x0,'x':x,'x1':x1,\n",
        "                        'f(x0)':f(x0),'f(x)':f(x),'f(x1)':f(x1)},\n",
        "                       ignore_index=True)\n",
        "    #valida si la raíz se encuentra en el intervalo [x0,x]\n",
        "    if f(x0)*f(x)<0:\n",
        "      x1=x\n",
        "    #valida si la raíz se encuentra en el intervalo [x,x1]\n",
        "    else:\n",
        "      x0=x\n",
        "  #retorna la raíz y la tabla de iteraciones\n",
        "  return x,tabla"
      ],
      "execution_count": null,
      "outputs": []
    },
    {
      "cell_type": "code",
      "metadata": {
        "id": "Y841dIPnIVrP"
      },
      "source": [
        "'Para usar el método, debe definirse la función, por ejemplo:\n",
        "'def f(x):\n",
        "'  return x**2-2\n",
        "\n",
        "'Posteriormente se grafica para asignar los valores iniciales de x0 y x1 como:\n",
        "'x=np.linspace(-10,10)\n",
        "'y=f(x)\n",
        "'plt.plot(x,y)\n",
        "'plt.grid()\n",
        "'plt.show()\n",
        "\n",
        "'Finalmente se hace la llamada a la función\n",
        "'raiz,tabla=biseccion(f,0,2.5)\n",
        "'print(raiz)\n",
        "'tabla"
      ],
      "execution_count": null,
      "outputs": []
    }
  ]
}