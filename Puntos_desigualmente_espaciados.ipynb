{
  "nbformat": 4,
  "nbformat_minor": 0,
  "metadata": {
    "colab": {
      "name": "Puntos desigualmente espaciados.ipynb",
      "provenance": [],
      "authorship_tag": "ABX9TyOZF4BOzXlQ4GMBRrjZHA28",
      "include_colab_link": true
    },
    "kernelspec": {
      "name": "python3",
      "display_name": "Python 3"
    },
    "language_info": {
      "name": "python"
    }
  },
  "cells": [
    {
      "cell_type": "markdown",
      "metadata": {
        "id": "view-in-github",
        "colab_type": "text"
      },
      "source": [
        "<a href=\"https://colab.research.google.com/github/Paoedd/metodos/blob/Integrales/Puntos_desigualmente_espaciados.ipynb\" target=\"_parent\"><img src=\"https://colab.research.google.com/assets/colab-badge.svg\" alt=\"Open In Colab\"/></a>"
      ]
    },
    {
      "cell_type": "markdown",
      "metadata": {
        "id": "-eRZz4Osf6_7"
      },
      "source": [
        "Funciona para cuando dan una serie de valores de x y y, no una funcion como tal. Puede usarse el método de los trapecios o de simpson, pero funciona mejor trapecios. Ejemplo:\n",
        "Calcular la integral de los siguientes datos\n",
        "\n",
        "$$ \\begin{array}{c|c|c|c|c|c|c} x&1&2&5&6&7&9\\\\ \\hline y&10&4&11&12&15&12 \\end{array} $$"
      ]
    },
    {
      "cell_type": "code",
      "metadata": {
        "id": "oXllDheffrHB"
      },
      "source": [
        "import numpy as np\n",
        "from scipy.integrate import trapz,simps"
      ],
      "execution_count": null,
      "outputs": []
    },
    {
      "cell_type": "code",
      "metadata": {
        "id": "TYm9wyakfvGb"
      },
      "source": [
        "x=np.array([,,,...]) #Escribir los valores de x\n",
        "y=np.array([,,,...]) #Escribir los valores de y"
      ],
      "execution_count": null,
      "outputs": []
    },
    {
      "cell_type": "code",
      "metadata": {
        "id": "WL2KZAF7gKlQ"
      },
      "source": [
        "trapecios=trapz(y,x)\n",
        "simpson=simps(y,x)\n",
        "print(trapecios, simpson) #se puede usar cualquier metodo e imprimir solo ese"
      ],
      "execution_count": null,
      "outputs": []
    }
  ]
}