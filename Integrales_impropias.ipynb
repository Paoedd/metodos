{
  "nbformat": 4,
  "nbformat_minor": 0,
  "metadata": {
    "colab": {
      "name": "Integrales impropias.ipynb",
      "provenance": [],
      "authorship_tag": "ABX9TyMgW/RRCIbqaaJ3iHyQxgaS",
      "include_colab_link": true
    },
    "kernelspec": {
      "name": "python3",
      "display_name": "Python 3"
    },
    "language_info": {
      "name": "python"
    }
  },
  "cells": [
    {
      "cell_type": "markdown",
      "metadata": {
        "id": "view-in-github",
        "colab_type": "text"
      },
      "source": [
        "<a href=\"https://colab.research.google.com/github/Paoedd/metodos/blob/Integrales/Integrales_impropias.ipynb\" target=\"_parent\"><img src=\"https://colab.research.google.com/assets/colab-badge.svg\" alt=\"Open In Colab\"/></a>"
      ]
    },
    {
      "cell_type": "markdown",
      "metadata": {
        "id": "2enRrFP6uMVD"
      },
      "source": [
        "#Integrales impropias (límites de [-infi, 0], [0, +infi], [-infi, +infi])"
      ]
    },
    {
      "cell_type": "code",
      "metadata": {
        "id": "bvpF6wUluIAp"
      },
      "source": [
        "from scipy.integrate import quad"
      ],
      "execution_count": null,
      "outputs": []
    },
    {
      "cell_type": "code",
      "metadata": {
        "id": "qnElvKb8uGXH"
      },
      "source": [
        "def f(x):\n",
        "  return #escribir la func"
      ],
      "execution_count": null,
      "outputs": []
    },
    {
      "cell_type": "code",
      "metadata": {
        "id": "h1oG9RXAu6gT"
      },
      "source": [
        "integral=quad(f,a,b) #a y b son los limites, infinito se escribe como np.Infinity\n",
        "integral"
      ],
      "execution_count": null,
      "outputs": []
    }
  ]
}