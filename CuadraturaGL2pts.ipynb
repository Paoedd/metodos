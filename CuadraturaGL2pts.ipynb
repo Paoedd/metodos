{
  "nbformat": 4,
  "nbformat_minor": 0,
  "metadata": {
    "colab": {
      "name": "CuadraturaGL2pts.ipynb",
      "provenance": [],
      "authorship_tag": "ABX9TyM26zxKvD600R2S/wtqp9xB",
      "include_colab_link": true
    },
    "kernelspec": {
      "name": "python3",
      "display_name": "Python 3"
    },
    "language_info": {
      "name": "python"
    }
  },
  "cells": [
    {
      "cell_type": "markdown",
      "metadata": {
        "id": "view-in-github",
        "colab_type": "text"
      },
      "source": [
        "<a href=\"https://colab.research.google.com/github/Paoedd/metodos/blob/Integrales/CuadraturaGL2pts.ipynb\" target=\"_parent\"><img src=\"https://colab.research.google.com/assets/colab-badge.svg\" alt=\"Open In Colab\"/></a>"
      ]
    },
    {
      "cell_type": "code",
      "metadata": {
        "id": "sEPVXnRm64dR"
      },
      "source": [
        "import numpy as np\n",
        "\n",
        "def cuadratura2p(f,a,b):\n",
        "  x1=(b-a)/2*(-1/np.sqrt(3))+(a+b)/2\n",
        "  x2=(b-a)/2*(1/np.sqrt(3))+(a+b)/2\n",
        "  return (b-a)/2*(f(x1)+f(x2))"
      ],
      "execution_count": null,
      "outputs": []
    },
    {
      "cell_type": "code",
      "metadata": {
        "id": "v8gnOcXQ7GOa"
      },
      "source": [
        "def f(x):\n",
        "  return #escribir la funcion a integrar"
      ],
      "execution_count": null,
      "outputs": []
    },
    {
      "cell_type": "code",
      "metadata": {
        "id": "Qi3XE4nv8OpM"
      },
      "source": [
        "integral=cuadratura2p(f,a,b) #a y b son los límites\n",
        "integral"
      ],
      "execution_count": null,
      "outputs": []
    }
  ]
}