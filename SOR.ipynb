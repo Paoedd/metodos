{
  "nbformat": 4,
  "nbformat_minor": 0,
  "metadata": {
    "colab": {
      "name": "SOR.ipynb",
      "provenance": [],
      "authorship_tag": "ABX9TyMjsZ5IesMKwsDHrAmuPbbd",
      "include_colab_link": true
    },
    "kernelspec": {
      "name": "python3",
      "display_name": "Python 3"
    },
    "language_info": {
      "name": "python"
    }
  },
  "cells": [
    {
      "cell_type": "markdown",
      "metadata": {
        "id": "view-in-github",
        "colab_type": "text"
      },
      "source": [
        "<a href=\"https://colab.research.google.com/github/Paoedd/metodos/blob/Sist-Ec-lineales/SOR.ipynb\" target=\"_parent\"><img src=\"https://colab.research.google.com/assets/colab-badge.svg\" alt=\"Open In Colab\"/></a>"
      ]
    },
    {
      "cell_type": "code",
      "metadata": {
        "id": "PcGAxfynlA3e"
      },
      "source": [
        "import numpy as np"
      ],
      "execution_count": null,
      "outputs": []
    },
    {
      "cell_type": "code",
      "metadata": {
        "id": "OAguTbJmlE0n"
      },
      "source": [
        "def sor(A,b,x,w=1,imax=100, tol=1e-8):\n",
        "  cumple=False\n",
        "  n=A.shape[0]\n",
        "  k=0\n",
        "\n",
        "  while (not cumple and k<imax):\n",
        "    xk1=np.zeros(n)\n",
        "    for i in range(n):\n",
        "      s1=np.dot(A[i,:i], xk1[:i])\n",
        "      s2=np.dot(A[i,i+1:], x[i+1:])\n",
        "      xk1[i]=(b[i]-s1-s2)/A[i,i]*w+(1-w)*x[i]\n",
        "    norma=np.linalg.norm(x-xk1)\n",
        "    print('iteracion:{} - <{} norma {} '.format (k, xk1, norma))\n",
        "    cumple=norma<tol\n",
        "    x=xk1\n",
        "    k+=1\n",
        "\n",
        "  if k<imax:\n",
        "    return x\n",
        "  else:\n",
        "    raise ValueError ('El sistema no converge')"
      ],
      "execution_count": null,
      "outputs": []
    },
    {
      "cell_type": "code",
      "metadata": {
        "id": "UuuG3iLGn941"
      },
      "source": [
        "A=np.array([[],\n",
        "            [],...]) #definimos la matriz con sus valores\n",
        "b=np.array([]) #definimos el vector\n",
        "x=np.array[]\n",
        "w=\n",
        "x=sor(A,b,x,w)\n",
        "print('\\n\\nSolucion: \\n', x)"
      ],
      "execution_count": null,
      "outputs": []
    }
  ]
}