{
  "nbformat": 4,
  "nbformat_minor": 0,
  "metadata": {
    "colab": {
      "name": "InterpSplineCub.ipynb",
      "provenance": [],
      "collapsed_sections": [],
      "include_colab_link": true
    },
    "kernelspec": {
      "name": "python3",
      "display_name": "Python 3"
    },
    "language_info": {
      "name": "python"
    }
  },
  "cells": [
    {
      "cell_type": "markdown",
      "metadata": {
        "id": "view-in-github",
        "colab_type": "text"
      },
      "source": [
        "<a href=\"https://colab.research.google.com/github/Paoedd/metodos/blob/main/InterpSplineCub.ipynb\" target=\"_parent\"><img src=\"https://colab.research.google.com/assets/colab-badge.svg\" alt=\"Open In Colab\"/></a>"
      ]
    },
    {
      "cell_type": "markdown",
      "metadata": {
        "id": "Y66OktfSW1Bx"
      },
      "source": [
        "La presión de vapor de agua (P) y el volumen específico (v) de vapor saturado de agua están tabulados como se muestra\n",
        "\n",
        "\\begin{array}{l|c|c|c|c|c|c|c}\n",
        "T\t&0.01&\t3.0&\t6.0&\t9.0&\t12.0&\t15.0&\t18.0\\\\\n",
        "\\hline\n",
        "P\t&0.6113&\t0.7577&\t0.9349&\t1.1477&\t1.4022&\t1.7051&\t2.0640\\\\\n",
        "\\hline\n",
        "v\t&206.136\t&168.132&\t137.734&\t113.386&\t93.784&\t77.926&\t65.038\n",
        "\\end{array}\n",
        "\n",
        "Determine la presión de vapor de agua y el volumen específico a 1°C. Use una interpolación de spline cúbico.\n"
      ]
    },
    {
      "cell_type": "code",
      "metadata": {
        "id": "u-Jvn9a6WxiU"
      },
      "source": [
        "import numpy as np\n",
        "from scipy import interpolate\n",
        "import matplotlib.pyplot as plt"
      ],
      "execution_count": null,
      "outputs": []
    },
    {
      "cell_type": "markdown",
      "metadata": {
        "id": "l-pzworU3Okt"
      },
      "source": [
        "*Datos para presión y temperatura*"
      ]
    },
    {
      "cell_type": "code",
      "metadata": {
        "id": "KqcvWaD8ZjOJ"
      },
      "source": [
        "#se construyen los arreglos con datos de P y T\n",
        "x=np.array([0.01,3.0,6.0,9.0,12.0,15.0,18.0])\n",
        "y=np.array([0.6113,0.7577,0.9349,1.1477,1.4022,1.7051,2.0640])"
      ],
      "execution_count": null,
      "outputs": []
    },
    {
      "cell_type": "code",
      "metadata": {
        "id": "wmGDw5klaZH-"
      },
      "source": [
        "#se construye el polinomio del spine cúbico\n",
        "s=interpolate.interp1d(x,y,kind='cubic')\n",
        "xs=1\n",
        "ys=s(xs)\n",
        "#print(ys)"
      ],
      "execution_count": null,
      "outputs": []
    },
    {
      "cell_type": "code",
      "metadata": {
        "id": "x-F9zeORaz4a"
      },
      "source": [
        "#se construye el polinomio de lagrange\n",
        "from scipy.interpolate import lagrange\n",
        "p=lagrange(x,y)\n",
        "y2=p(xs)"
      ],
      "execution_count": null,
      "outputs": []
    },
    {
      "cell_type": "markdown",
      "metadata": {
        "id": "ZRv0VPnk4IX0"
      },
      "source": [
        "*Datos para volumen específico y temperatura*"
      ]
    },
    {
      "cell_type": "code",
      "metadata": {
        "id": "7fNROmiW0j3m"
      },
      "source": [
        "#se construyen los arreglos con datos de v y T\n",
        "xv=np.array([0.01,3.0,6.0,9.0,12.0,15.0,18.0])\n",
        "yv=np.array([206.136,168.132,137.734,113.386,93.784,77.926,65.038])"
      ],
      "execution_count": null,
      "outputs": []
    },
    {
      "cell_type": "code",
      "metadata": {
        "id": "U_EohYoF0kMh"
      },
      "source": [
        "#se construye el polinomio del spine cúbico\n",
        "s1=interpolate.interp1d(xv,yv,kind='cubic')\n",
        "xs1=1\n",
        "ys1=s1(xs1)\n",
        "#print(ys1)"
      ],
      "execution_count": null,
      "outputs": []
    },
    {
      "cell_type": "code",
      "metadata": {
        "id": "tv2mCFsS0kdy"
      },
      "source": [
        "#se construye el polinomio de lagrange\n",
        "from scipy.interpolate import lagrange\n",
        "p=lagrange(xv,yv)\n",
        "y3=p(xs1)"
      ],
      "execution_count": null,
      "outputs": []
    },
    {
      "cell_type": "code",
      "metadata": {
        "colab": {
          "base_uri": "https://localhost:8080/",
          "height": 541
        },
        "id": "TL-rtAZM0kwt",
        "outputId": "8d40a9e3-4066-4228-8755-6aeae2670903"
      },
      "source": [
        "plt.plot(x,y,'o:',xs,ys,'sr')\n",
        "plt.xlabel('Temperatura')\n",
        "plt.ylabel('Presión')\n",
        "plt.text(xs,ys,str(ys))\n",
        "plt.show()\n",
        "\n",
        "plt.plot(xv,yv,'o:',xs1,ys1,'sr')\n",
        "plt.xlabel('Temperatura')\n",
        "plt.ylabel('Volumen específico')\n",
        "plt.text(xs1,ys1,str(ys1))\n",
        "plt.show()"
      ],
      "execution_count": null,
      "outputs": [
        {
          "output_type": "display_data",
          "data": {
            "image/png": "[encoded data removed]",
            "text/plain": [
              "<Figure size 432x288 with 1 Axes>"
            ]
          },
          "metadata": {
            "tags": [],
            "needs_background": "light"
          }
        },
        {
          "output_type": "display_data",
          "data": {
            "image/png": "[encoded data removed]",
            "text/plain": [
              "<Figure size 432x288 with 1 Axes>"
            ]
          },
          "metadata": {
            "tags": [],
            "needs_background": "light"
          }
        }
      ]
    }
  ]
}