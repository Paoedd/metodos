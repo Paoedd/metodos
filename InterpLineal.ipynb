{
  "nbformat": 4,
  "nbformat_minor": 0,
  "metadata": {
    "colab": {
      "name": "Interpolación.ipynb",
      "provenance": [],
      "authorship_tag": "ABX9TyNvZud3QCU8DZw2gnqdWdS/",
      "include_colab_link": true
    },
    "kernelspec": {
      "name": "python3",
      "display_name": "Python 3"
    }
  },
  "cells": [
    {
      "cell_type": "markdown",
      "metadata": {
        "id": "view-in-github",
        "colab_type": "text"
      },
      "source": [
        "<a href=\"https://colab.research.google.com/github/Paoedd/metodos/blob/main/InterpLineal.ipynb\" target=\"_parent\"><img src=\"https://colab.research.google.com/assets/colab-badge.svg\" alt=\"Open In Colab\"/></a>"
      ]
    },
    {
      "cell_type": "markdown",
      "metadata": {
        "id": "eQCh_xCyI4r3"
      },
      "source": [
        "#Interpolación lineal\n",
        "La medición de la densidad del carbonato de potasio a distintas concentraciones a temperatura constante genera los siguientes datos.\n",
        "\n",
        "$$\n",
        "\\begin{array}{l|c|c|c|c|c|c}\n",
        "\\text{Concentración}&4.1& 12.2& 20.3& 28.2& 38.1& 45.2\\\\\n",
        "\\hline\n",
        "\\text{Densidad}&1.0276& 1.1013& 1.1801& 1.2652& 1.3480& 1.4120\n",
        "\\end{array}\n",
        "$$\n",
        "\n",
        "Obtener la densidad del Carbonato de Potasio a una concentración de 15%.\n"
      ]
    },
    {
      "cell_type": "code",
      "metadata": {
        "id": "Br19EhG9Iv0p"
      },
      "source": [
        "import numpy as np\n",
        "from scipy import interpolate\n",
        "import matplotlib.pyplot as plt"
      ],
      "execution_count": null,
      "outputs": []
    },
    {
      "cell_type": "code",
      "metadata": {
        "id": "PSQOhWFRLWiJ"
      },
      "source": [
        "x=np.array([4.1,12.2,20.3,28.2,38.1,45.2])\n",
        "y=np.array([1.0276,1.1013,1.1801,1.2652,1.3480,1.4120])"
      ],
      "execution_count": null,
      "outputs": []
    },
    {
      "cell_type": "code",
      "metadata": {
        "colab": {
          "base_uri": "https://localhost:8080/"
        },
        "id": "Qv4sPR1IL-7M",
        "outputId": "e4e07a58-750e-47af-9c97-fe157206ce6a"
      },
      "source": [
        "polin=interpolate.interp1d(x,y)\n",
        "xi=15\n",
        "yi=polin(xi)\n",
        "print(yi)"
      ],
      "execution_count": null,
      "outputs": [
        {
          "output_type": "stream",
          "text": [
            "1.1285395061728394\n"
          ],
          "name": "stdout"
        }
      ]
    },
    {
      "cell_type": "code",
      "metadata": {
        "colab": {
          "base_uri": "https://localhost:8080/",
          "height": 297
        },
        "id": "ufTa33zdM4MW",
        "outputId": "40333b63-968b-4321-8aa0-a76df82d8b02"
      },
      "source": [
        "plt.plot(x,y,'o:',xi,yi,'sr')\n",
        "plt.title('Densidad del carbonato de potasio',fontsize=16)\n",
        "plt.xlabel('Concentración')\n",
        "plt.ylabel('Densidad')\n",
        "plt.text(xi,yi,' interpolación '+str(yi))\n",
        "plt.show()"
      ],
      "execution_count": null,
      "outputs": [
        {
          "output_type": "display_data",
          "data": {
            "image/png": "[encoded data removed]",
            "text/plain": [
              "<Figure size 432x288 with 1 Axes>"
            ]
          },
          "metadata": {
            "tags": [],
            "needs_background": "light"
          }
        }
      ]
    }
  ]
}