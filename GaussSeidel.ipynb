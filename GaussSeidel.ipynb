{
  "nbformat": 4,
  "nbformat_minor": 0,
  "metadata": {
    "colab": {
      "name": "GaussSeidel.ipynb",
      "provenance": [],
      "authorship_tag": "ABX9TyPxJydf0f3v/wfjTw7gQn69",
      "include_colab_link": true
    },
    "kernelspec": {
      "name": "python3",
      "display_name": "Python 3"
    },
    "language_info": {
      "name": "python"
    }
  },
  "cells": [
    {
      "cell_type": "markdown",
      "metadata": {
        "id": "view-in-github",
        "colab_type": "text"
      },
      "source": [
        "<a href=\"https://colab.research.google.com/github/Paoedd/metodos/blob/Sist-Ec-lineales/GaussSeidel.ipynb\" target=\"_parent\"><img src=\"https://colab.research.google.com/assets/colab-badge.svg\" alt=\"Open In Colab\"/></a>"
      ]
    },
    {
      "cell_type": "code",
      "metadata": {
        "id": "2FHvS_2oo-3Y"
      },
      "source": [
        "import numpy as np"
      ],
      "execution_count": null,
      "outputs": []
    },
    {
      "cell_type": "code",
      "metadata": {
        "id": "3kJhSAqzpFU5"
      },
      "source": [
        "A=np.array([[],[],...]) #definimos la matriz con sus valores\n",
        "b=np.array([]) #definimos el vector"
      ],
      "execution_count": null,
      "outputs": []
    },
    {
      "cell_type": "code",
      "metadata": {
        "id": "RDKRQ3ZXpP16"
      },
      "source": [
        "def GaussSeidel(A,b,x,tol=1e-8):\n",
        "  L=np.tril(A)\n",
        "  U=A-L\n",
        "  Linv=np.linalg.inv(L)\n",
        "  cumple=False\n",
        "  while (not cumple):\n",
        "    xk1=np.dot(Linv, b-np.dot(U,x))\n",
        "    cumple=np.linalg.norm(x-xk1)<tol\n",
        "    x=xk1.copy()\n",
        "  return x"
      ],
      "execution_count": null,
      "outputs": []
    },
    {
      "cell_type": "code",
      "metadata": {
        "id": "7jaeMqpWqrti"
      },
      "source": [
        "xi=np.array([]) #vector propuesto\n",
        "sol=GaussSeidel(A,b,xi) #llamamos a la funcion y la guardamos en la variable sol de solucion\n",
        "print(sol)"
      ],
      "execution_count": null,
      "outputs": []
    }
  ]
}